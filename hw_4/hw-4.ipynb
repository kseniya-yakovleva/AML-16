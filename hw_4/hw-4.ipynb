{
 "cells": [
  {
   "cell_type": "code",
   "execution_count": 1,
   "metadata": {},
   "outputs": [],
   "source": [
    "import numpy as np\n",
    "import pandas as pd\n",
    "import seaborn as sns\n",
    "\n",
    "from sklearn.linear_model import LinearRegression"
   ]
  },
  {
   "cell_type": "markdown",
   "metadata": {},
   "source": [
    "## Создание датасета "
   ]
  },
  {
   "cell_type": "code",
   "execution_count": 6,
   "metadata": {},
   "outputs": [
    {
     "data": {
      "text/html": [
       "<div>\n",
       "<style scoped>\n",
       "    .dataframe tbody tr th:only-of-type {\n",
       "        vertical-align: middle;\n",
       "    }\n",
       "\n",
       "    .dataframe tbody tr th {\n",
       "        vertical-align: top;\n",
       "    }\n",
       "\n",
       "    .dataframe thead th {\n",
       "        text-align: right;\n",
       "    }\n",
       "</style>\n",
       "<table border=\"1\" class=\"dataframe\">\n",
       "  <thead>\n",
       "    <tr style=\"text-align: right;\">\n",
       "      <th></th>\n",
       "      <th>work_experience</th>\n",
       "      <th>hourly_rate</th>\n",
       "      <th>working_hours</th>\n",
       "      <th>bonus</th>\n",
       "      <th>salary</th>\n",
       "    </tr>\n",
       "  </thead>\n",
       "  <tbody>\n",
       "    <tr>\n",
       "      <th>0</th>\n",
       "      <td>8</td>\n",
       "      <td>99</td>\n",
       "      <td>34</td>\n",
       "      <td>29</td>\n",
       "      <td>3555.5</td>\n",
       "    </tr>\n",
       "    <tr>\n",
       "      <th>1</th>\n",
       "      <td>10</td>\n",
       "      <td>39</td>\n",
       "      <td>14</td>\n",
       "      <td>24</td>\n",
       "      <td>723.0</td>\n",
       "    </tr>\n",
       "    <tr>\n",
       "      <th>2</th>\n",
       "      <td>7</td>\n",
       "      <td>139</td>\n",
       "      <td>20</td>\n",
       "      <td>24</td>\n",
       "      <td>2957.0</td>\n",
       "    </tr>\n",
       "    <tr>\n",
       "      <th>3</th>\n",
       "      <td>7</td>\n",
       "      <td>35</td>\n",
       "      <td>25</td>\n",
       "      <td>59</td>\n",
       "      <td>1139.5</td>\n",
       "    </tr>\n",
       "    <tr>\n",
       "      <th>4</th>\n",
       "      <td>10</td>\n",
       "      <td>63</td>\n",
       "      <td>40</td>\n",
       "      <td>46</td>\n",
       "      <td>2752.0</td>\n",
       "    </tr>\n",
       "    <tr>\n",
       "      <th>...</th>\n",
       "      <td>...</td>\n",
       "      <td>...</td>\n",
       "      <td>...</td>\n",
       "      <td>...</td>\n",
       "      <td>...</td>\n",
       "    </tr>\n",
       "    <tr>\n",
       "      <th>1995</th>\n",
       "      <td>11</td>\n",
       "      <td>86</td>\n",
       "      <td>26</td>\n",
       "      <td>47</td>\n",
       "      <td>2470.5</td>\n",
       "    </tr>\n",
       "    <tr>\n",
       "      <th>1996</th>\n",
       "      <td>11</td>\n",
       "      <td>153</td>\n",
       "      <td>44</td>\n",
       "      <td>54</td>\n",
       "      <td>6984.0</td>\n",
       "    </tr>\n",
       "    <tr>\n",
       "      <th>1997</th>\n",
       "      <td>9</td>\n",
       "      <td>152</td>\n",
       "      <td>35</td>\n",
       "      <td>37</td>\n",
       "      <td>5529.5</td>\n",
       "    </tr>\n",
       "    <tr>\n",
       "      <th>1998</th>\n",
       "      <td>9</td>\n",
       "      <td>150</td>\n",
       "      <td>37</td>\n",
       "      <td>64</td>\n",
       "      <td>5827.0</td>\n",
       "    </tr>\n",
       "    <tr>\n",
       "      <th>1999</th>\n",
       "      <td>7</td>\n",
       "      <td>179</td>\n",
       "      <td>11</td>\n",
       "      <td>33</td>\n",
       "      <td>2168.5</td>\n",
       "    </tr>\n",
       "  </tbody>\n",
       "</table>\n",
       "<p>2000 rows × 5 columns</p>\n",
       "</div>"
      ],
      "text/plain": [
       "      work_experience  hourly_rate  working_hours  bonus  salary\n",
       "0                   8           99             34     29  3555.5\n",
       "1                  10           39             14     24   723.0\n",
       "2                   7          139             20     24  2957.0\n",
       "3                   7           35             25     59  1139.5\n",
       "4                  10           63             40     46  2752.0\n",
       "...               ...          ...            ...    ...     ...\n",
       "1995               11           86             26     47  2470.5\n",
       "1996               11          153             44     54  6984.0\n",
       "1997                9          152             35     37  5529.5\n",
       "1998                9          150             37     64  5827.0\n",
       "1999                7          179             11     33  2168.5\n",
       "\n",
       "[2000 rows x 5 columns]"
      ]
     },
     "execution_count": 6,
     "metadata": {},
     "output_type": "execute_result"
    }
   ],
   "source": [
    "n_samples = 2000\n",
    "\n",
    "work_experience = np.random.choice(5, n_samples) + 7 #будет лишним признаком\n",
    "hourly_rate = np.random.choice(150, n_samples) + 30\n",
    "working_hours = np.random.choice(50, n_samples) + 10\n",
    "bonus = np.random.choice(50, n_samples) + 17\n",
    "\n",
    "salary = hourly_rate * working_hours + 2.5 * bonus + 117\n",
    "\n",
    "data = pd.DataFrame({'work_experience': work_experience, 'hourly_rate': hourly_rate, 'working_hours': working_hours, 'bonus': bonus, 'salary': salary})\n",
    "data"
   ]
  },
  {
   "cell_type": "markdown",
   "metadata": {},
   "source": [
    "## Если все признаки отдать на обучение модели"
   ]
  },
  {
   "cell_type": "code",
   "execution_count": 7,
   "metadata": {},
   "outputs": [
    {
     "name": "stdout",
     "output_type": "stream",
     "text": [
      "Weights: [ -7.20449757  35.43648913 102.81940856   2.07909433]\n",
      "Bias: -3437.2575813225667\n",
      "Error: 454.7408965730916\n"
     ]
    }
   ],
   "source": [
    "from sklearn.metrics import mean_absolute_error\n",
    "\n",
    "X = data[['work_experience', 'hourly_rate', 'working_hours', 'bonus']]\n",
    "y = data['salary']\n",
    "reg = LinearRegression().fit(X, y)\n",
    "print('Weights: {}'.format(reg.coef_))\n",
    "print('Bias: {}'.format(reg.intercept_))\n",
    "\n",
    "pred_values = reg.predict(data[['work_experience', 'hourly_rate', 'working_hours', 'bonus']])\n",
    "print('Error: {}'.format(mean_absolute_error(pred_values, y)))"
   ]
  },
  {
   "cell_type": "markdown",
   "metadata": {},
   "source": [
    "## Если убрать лишний признак"
   ]
  },
  {
   "cell_type": "code",
   "execution_count": 9,
   "metadata": {},
   "outputs": [
    {
     "name": "stdout",
     "output_type": "stream",
     "text": [
      "Weights: [ 35.42995984 102.80432919   2.08258468]\n",
      "Bias: -3500.536676094376\n",
      "Error: 454.73032214886325\n"
     ]
    }
   ],
   "source": [
    "X = data[['hourly_rate', 'working_hours', 'bonus']]\n",
    "y = data['salary']\n",
    "reg = LinearRegression().fit(X, y)\n",
    "print('Weights: {}'.format(reg.coef_))\n",
    "print('Bias: {}'.format(reg.intercept_))\n",
    "\n",
    "pred_values = reg.predict(data[['hourly_rate', 'working_hours', 'bonus']])\n",
    "print('Error: {}'.format(mean_absolute_error(pred_values, y)))"
   ]
  },
  {
   "cell_type": "markdown",
   "metadata": {},
   "source": [
    "Особо ничего не изменилось"
   ]
  },
  {
   "cell_type": "markdown",
   "metadata": {},
   "source": [
    "## Добавление нового признака"
   ]
  },
  {
   "cell_type": "code",
   "execution_count": 10,
   "metadata": {},
   "outputs": [
    {
     "data": {
      "text/html": [
       "<div>\n",
       "<style scoped>\n",
       "    .dataframe tbody tr th:only-of-type {\n",
       "        vertical-align: middle;\n",
       "    }\n",
       "\n",
       "    .dataframe tbody tr th {\n",
       "        vertical-align: top;\n",
       "    }\n",
       "\n",
       "    .dataframe thead th {\n",
       "        text-align: right;\n",
       "    }\n",
       "</style>\n",
       "<table border=\"1\" class=\"dataframe\">\n",
       "  <thead>\n",
       "    <tr style=\"text-align: right;\">\n",
       "      <th></th>\n",
       "      <th>work_experience</th>\n",
       "      <th>hourly_rate</th>\n",
       "      <th>working_hours</th>\n",
       "      <th>bonus</th>\n",
       "      <th>salary</th>\n",
       "      <th>new</th>\n",
       "    </tr>\n",
       "  </thead>\n",
       "  <tbody>\n",
       "    <tr>\n",
       "      <th>0</th>\n",
       "      <td>8</td>\n",
       "      <td>99</td>\n",
       "      <td>34</td>\n",
       "      <td>29</td>\n",
       "      <td>3555.5</td>\n",
       "      <td>3366</td>\n",
       "    </tr>\n",
       "    <tr>\n",
       "      <th>1</th>\n",
       "      <td>10</td>\n",
       "      <td>39</td>\n",
       "      <td>14</td>\n",
       "      <td>24</td>\n",
       "      <td>723.0</td>\n",
       "      <td>546</td>\n",
       "    </tr>\n",
       "    <tr>\n",
       "      <th>2</th>\n",
       "      <td>7</td>\n",
       "      <td>139</td>\n",
       "      <td>20</td>\n",
       "      <td>24</td>\n",
       "      <td>2957.0</td>\n",
       "      <td>2780</td>\n",
       "    </tr>\n",
       "    <tr>\n",
       "      <th>3</th>\n",
       "      <td>7</td>\n",
       "      <td>35</td>\n",
       "      <td>25</td>\n",
       "      <td>59</td>\n",
       "      <td>1139.5</td>\n",
       "      <td>875</td>\n",
       "    </tr>\n",
       "    <tr>\n",
       "      <th>4</th>\n",
       "      <td>10</td>\n",
       "      <td>63</td>\n",
       "      <td>40</td>\n",
       "      <td>46</td>\n",
       "      <td>2752.0</td>\n",
       "      <td>2520</td>\n",
       "    </tr>\n",
       "  </tbody>\n",
       "</table>\n",
       "</div>"
      ],
      "text/plain": [
       "   work_experience  hourly_rate  working_hours  bonus  salary   new\n",
       "0                8           99             34     29  3555.5  3366\n",
       "1               10           39             14     24   723.0   546\n",
       "2                7          139             20     24  2957.0  2780\n",
       "3                7           35             25     59  1139.5   875\n",
       "4               10           63             40     46  2752.0  2520"
      ]
     },
     "execution_count": 10,
     "metadata": {},
     "output_type": "execute_result"
    }
   ],
   "source": [
    "data['new'] = data['hourly_rate'] * data['working_hours']\n",
    "data.head(5)"
   ]
  },
  {
   "cell_type": "code",
   "execution_count": 11,
   "metadata": {},
   "outputs": [
    {
     "name": "stdout",
     "output_type": "stream",
     "text": [
      "Weights: [-4.43044902e-15  4.15223411e-14  2.50000000e+00  1.00000000e+00]\n",
      "Bias: 116.99999999999955\n",
      "Error: 3.652189661806915e-13\n"
     ]
    }
   ],
   "source": [
    "X = data[['hourly_rate', 'working_hours', 'bonus', 'new']]\n",
    "y = data['salary']\n",
    "reg = LinearRegression().fit(X, y)\n",
    "print('Weights: {}'.format(reg.coef_))\n",
    "print('Bias: {}'.format(reg.intercept_))\n",
    "\n",
    "pred_values = reg.predict(data[['hourly_rate', 'working_hours', 'bonus', 'new']])\n",
    "print('Error: {}'.format(mean_absolute_error(pred_values, y)))"
   ]
  },
  {
   "cell_type": "markdown",
   "metadata": {},
   "source": [
    " В целом, коэффициенты для бонуса и произведения уже подобраны правильно"
   ]
  },
  {
   "cell_type": "markdown",
   "metadata": {},
   "source": [
    "## Модель только с одним новым признаком"
   ]
  },
  {
   "cell_type": "code",
   "execution_count": 13,
   "metadata": {},
   "outputs": [
    {
     "name": "stdout",
     "output_type": "stream",
     "text": [
      "Weights: [1.00044602]\n",
      "Bias: 219.46446564190956\n",
      "Error: 30.95678442114595\n"
     ]
    }
   ],
   "source": [
    "X = data[['new']]\n",
    "y = data['salary']\n",
    "reg = LinearRegression().fit(X, y)\n",
    "print('Weights: {}'.format(reg.coef_))\n",
    "print('Bias: {}'.format(reg.intercept_))\n",
    "\n",
    "pred_values = reg.predict(data[['new']])\n",
    "print('Error: {}'.format(mean_absolute_error(pred_values, y)))"
   ]
  },
  {
   "cell_type": "markdown",
   "metadata": {},
   "source": [
    "Если оставить только прозведение, без бонуса, то ошибка будет ниже, чем в первом случае"
   ]
  }
 ],
 "metadata": {
  "kernelspec": {
   "display_name": "Python 3",
   "language": "python",
   "name": "python3"
  },
  "language_info": {
   "codemirror_mode": {
    "name": "ipython",
    "version": 3
   },
   "file_extension": ".py",
   "mimetype": "text/x-python",
   "name": "python",
   "nbconvert_exporter": "python",
   "pygments_lexer": "ipython3",
   "version": "3.8.5"
  }
 },
 "nbformat": 4,
 "nbformat_minor": 4
}
