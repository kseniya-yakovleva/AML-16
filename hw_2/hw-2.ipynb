{
 "cells": [
  {
   "cell_type": "code",
   "execution_count": 1,
   "metadata": {},
   "outputs": [],
   "source": [
    "from sklearn import datasets\n",
    "from sklearn.linear_model import LogisticRegression\n",
    "import numpy as np\n",
    "import pandas as pd"
   ]
  },
  {
   "cell_type": "code",
   "execution_count": 2,
   "metadata": {},
   "outputs": [],
   "source": [
    "iris = datasets.load_iris()"
   ]
  },
  {
   "cell_type": "code",
   "execution_count": 3,
   "metadata": {},
   "outputs": [
    {
     "data": {
      "text/plain": [
       "array(['setosa', 'versicolor', 'virginica'], dtype='<U10')"
      ]
     },
     "execution_count": 3,
     "metadata": {},
     "output_type": "execute_result"
    }
   ],
   "source": [
    "iris.target_names"
   ]
  },
  {
   "cell_type": "code",
   "execution_count": 4,
   "metadata": {},
   "outputs": [
    {
     "name": "stdout",
     "output_type": "stream",
     "text": [
      "   sepal length (cm)  sepal width (cm)  petal length (cm)  petal width (cm)  \\\n",
      "0                5.1               3.5                1.4               0.2   \n",
      "1                4.9               3.0                1.4               0.2   \n",
      "2                4.7               3.2                1.3               0.2   \n",
      "3                4.6               3.1                1.5               0.2   \n",
      "4                5.0               3.6                1.4               0.2   \n",
      "\n",
      "   target   label  \n",
      "0     0.0  setosa  \n",
      "1     0.0  setosa  \n",
      "2     0.0  setosa  \n",
      "3     0.0  setosa  \n",
      "4     0.0  setosa  \n"
     ]
    }
   ],
   "source": [
    "#перевод в dataframe\n",
    "df_iris = pd.DataFrame(np.column_stack((iris.data, iris.target)), columns = iris.feature_names+['target'])\n",
    "df_iris['label'] = df_iris.target.replace(dict(enumerate(iris.target_names))) #для сортировки\n",
    "print(df_iris.head())"
   ]
  },
  {
   "cell_type": "code",
   "execution_count": 5,
   "metadata": {},
   "outputs": [
    {
     "data": {
      "text/html": [
       "<div>\n",
       "<style scoped>\n",
       "    .dataframe tbody tr th:only-of-type {\n",
       "        vertical-align: middle;\n",
       "    }\n",
       "\n",
       "    .dataframe tbody tr th {\n",
       "        vertical-align: top;\n",
       "    }\n",
       "\n",
       "    .dataframe thead th {\n",
       "        text-align: right;\n",
       "    }\n",
       "</style>\n",
       "<table border=\"1\" class=\"dataframe\">\n",
       "  <thead>\n",
       "    <tr style=\"text-align: right;\">\n",
       "      <th></th>\n",
       "      <th>sepal length (cm)</th>\n",
       "      <th>sepal width (cm)</th>\n",
       "      <th>petal length (cm)</th>\n",
       "      <th>petal width (cm)</th>\n",
       "      <th>target</th>\n",
       "      <th>label</th>\n",
       "    </tr>\n",
       "  </thead>\n",
       "  <tbody>\n",
       "    <tr>\n",
       "      <th>50</th>\n",
       "      <td>7.0</td>\n",
       "      <td>3.2</td>\n",
       "      <td>4.7</td>\n",
       "      <td>1.4</td>\n",
       "      <td>1.0</td>\n",
       "      <td>versicolor</td>\n",
       "    </tr>\n",
       "    <tr>\n",
       "      <th>51</th>\n",
       "      <td>6.4</td>\n",
       "      <td>3.2</td>\n",
       "      <td>4.5</td>\n",
       "      <td>1.5</td>\n",
       "      <td>1.0</td>\n",
       "      <td>versicolor</td>\n",
       "    </tr>\n",
       "    <tr>\n",
       "      <th>52</th>\n",
       "      <td>6.9</td>\n",
       "      <td>3.1</td>\n",
       "      <td>4.9</td>\n",
       "      <td>1.5</td>\n",
       "      <td>1.0</td>\n",
       "      <td>versicolor</td>\n",
       "    </tr>\n",
       "    <tr>\n",
       "      <th>53</th>\n",
       "      <td>5.5</td>\n",
       "      <td>2.3</td>\n",
       "      <td>4.0</td>\n",
       "      <td>1.3</td>\n",
       "      <td>1.0</td>\n",
       "      <td>versicolor</td>\n",
       "    </tr>\n",
       "    <tr>\n",
       "      <th>54</th>\n",
       "      <td>6.5</td>\n",
       "      <td>2.8</td>\n",
       "      <td>4.6</td>\n",
       "      <td>1.5</td>\n",
       "      <td>1.0</td>\n",
       "      <td>versicolor</td>\n",
       "    </tr>\n",
       "  </tbody>\n",
       "</table>\n",
       "</div>"
      ],
      "text/plain": [
       "    sepal length (cm)  sepal width (cm)  petal length (cm)  petal width (cm)  \\\n",
       "50                7.0               3.2                4.7               1.4   \n",
       "51                6.4               3.2                4.5               1.5   \n",
       "52                6.9               3.1                4.9               1.5   \n",
       "53                5.5               2.3                4.0               1.3   \n",
       "54                6.5               2.8                4.6               1.5   \n",
       "\n",
       "    target       label  \n",
       "50     1.0  versicolor  \n",
       "51     1.0  versicolor  \n",
       "52     1.0  versicolor  \n",
       "53     1.0  versicolor  \n",
       "54     1.0  versicolor  "
      ]
     },
     "execution_count": 5,
     "metadata": {},
     "output_type": "execute_result"
    }
   ],
   "source": [
    "#сортировка по двум классам\n",
    "df_iris_2class = df_iris[df_iris['label'].isin(['versicolor', 'virginica'])]\n",
    "df_iris_2class.head()"
   ]
  },
  {
   "cell_type": "code",
   "execution_count": 6,
   "metadata": {},
   "outputs": [
    {
     "name": "stdout",
     "output_type": "stream",
     "text": [
      "<class 'pandas.core.frame.DataFrame'>\n",
      "Int64Index: 100 entries, 50 to 149\n",
      "Data columns (total 6 columns):\n",
      " #   Column             Non-Null Count  Dtype  \n",
      "---  ------             --------------  -----  \n",
      " 0   sepal length (cm)  100 non-null    float64\n",
      " 1   sepal width (cm)   100 non-null    float64\n",
      " 2   petal length (cm)  100 non-null    float64\n",
      " 3   petal width (cm)   100 non-null    float64\n",
      " 4   target             100 non-null    float64\n",
      " 5   label              100 non-null    object \n",
      "dtypes: float64(5), object(1)\n",
      "memory usage: 5.5+ KB\n"
     ]
    }
   ],
   "source": [
    "df_iris_2class.info()"
   ]
  },
  {
   "cell_type": "code",
   "execution_count": 7,
   "metadata": {},
   "outputs": [
    {
     "data": {
      "text/html": [
       "<div>\n",
       "<style scoped>\n",
       "    .dataframe tbody tr th:only-of-type {\n",
       "        vertical-align: middle;\n",
       "    }\n",
       "\n",
       "    .dataframe tbody tr th {\n",
       "        vertical-align: top;\n",
       "    }\n",
       "\n",
       "    .dataframe thead th {\n",
       "        text-align: right;\n",
       "    }\n",
       "</style>\n",
       "<table border=\"1\" class=\"dataframe\">\n",
       "  <thead>\n",
       "    <tr style=\"text-align: right;\">\n",
       "      <th></th>\n",
       "      <th>sepal length (cm)</th>\n",
       "      <th>sepal width (cm)</th>\n",
       "      <th>petal length (cm)</th>\n",
       "      <th>petal width (cm)</th>\n",
       "    </tr>\n",
       "  </thead>\n",
       "  <tbody>\n",
       "    <tr>\n",
       "      <th>50</th>\n",
       "      <td>7.0</td>\n",
       "      <td>3.2</td>\n",
       "      <td>4.7</td>\n",
       "      <td>1.4</td>\n",
       "    </tr>\n",
       "    <tr>\n",
       "      <th>51</th>\n",
       "      <td>6.4</td>\n",
       "      <td>3.2</td>\n",
       "      <td>4.5</td>\n",
       "      <td>1.5</td>\n",
       "    </tr>\n",
       "    <tr>\n",
       "      <th>52</th>\n",
       "      <td>6.9</td>\n",
       "      <td>3.1</td>\n",
       "      <td>4.9</td>\n",
       "      <td>1.5</td>\n",
       "    </tr>\n",
       "    <tr>\n",
       "      <th>53</th>\n",
       "      <td>5.5</td>\n",
       "      <td>2.3</td>\n",
       "      <td>4.0</td>\n",
       "      <td>1.3</td>\n",
       "    </tr>\n",
       "    <tr>\n",
       "      <th>54</th>\n",
       "      <td>6.5</td>\n",
       "      <td>2.8</td>\n",
       "      <td>4.6</td>\n",
       "      <td>1.5</td>\n",
       "    </tr>\n",
       "  </tbody>\n",
       "</table>\n",
       "</div>"
      ],
      "text/plain": [
       "    sepal length (cm)  sepal width (cm)  petal length (cm)  petal width (cm)\n",
       "50                7.0               3.2                4.7               1.4\n",
       "51                6.4               3.2                4.5               1.5\n",
       "52                6.9               3.1                4.9               1.5\n",
       "53                5.5               2.3                4.0               1.3\n",
       "54                6.5               2.8                4.6               1.5"
      ]
     },
     "execution_count": 7,
     "metadata": {},
     "output_type": "execute_result"
    }
   ],
   "source": [
    "#данные для модели\n",
    "X = df_iris_2class.iloc[:, :-2]\n",
    "X.head()"
   ]
  },
  {
   "cell_type": "code",
   "execution_count": 8,
   "metadata": {},
   "outputs": [
    {
     "data": {
      "text/plain": [
       "array([[7. , 3.2, 4.7, 1.4],\n",
       "       [6.4, 3.2, 4.5, 1.5],\n",
       "       [6.9, 3.1, 4.9, 1.5],\n",
       "       [5.5, 2.3, 4. , 1.3],\n",
       "       [6.5, 2.8, 4.6, 1.5],\n",
       "       [5.7, 2.8, 4.5, 1.3],\n",
       "       [6.3, 3.3, 4.7, 1.6],\n",
       "       [4.9, 2.4, 3.3, 1. ],\n",
       "       [6.6, 2.9, 4.6, 1.3],\n",
       "       [5.2, 2.7, 3.9, 1.4],\n",
       "       [5. , 2. , 3.5, 1. ],\n",
       "       [5.9, 3. , 4.2, 1.5],\n",
       "       [6. , 2.2, 4. , 1. ],\n",
       "       [6.1, 2.9, 4.7, 1.4],\n",
       "       [5.6, 2.9, 3.6, 1.3],\n",
       "       [6.7, 3.1, 4.4, 1.4],\n",
       "       [5.6, 3. , 4.5, 1.5],\n",
       "       [5.8, 2.7, 4.1, 1. ],\n",
       "       [6.2, 2.2, 4.5, 1.5],\n",
       "       [5.6, 2.5, 3.9, 1.1],\n",
       "       [5.9, 3.2, 4.8, 1.8],\n",
       "       [6.1, 2.8, 4. , 1.3],\n",
       "       [6.3, 2.5, 4.9, 1.5],\n",
       "       [6.1, 2.8, 4.7, 1.2],\n",
       "       [6.4, 2.9, 4.3, 1.3],\n",
       "       [6.6, 3. , 4.4, 1.4],\n",
       "       [6.8, 2.8, 4.8, 1.4],\n",
       "       [6.7, 3. , 5. , 1.7],\n",
       "       [6. , 2.9, 4.5, 1.5],\n",
       "       [5.7, 2.6, 3.5, 1. ],\n",
       "       [5.5, 2.4, 3.8, 1.1],\n",
       "       [5.5, 2.4, 3.7, 1. ],\n",
       "       [5.8, 2.7, 3.9, 1.2],\n",
       "       [6. , 2.7, 5.1, 1.6],\n",
       "       [5.4, 3. , 4.5, 1.5],\n",
       "       [6. , 3.4, 4.5, 1.6],\n",
       "       [6.7, 3.1, 4.7, 1.5],\n",
       "       [6.3, 2.3, 4.4, 1.3],\n",
       "       [5.6, 3. , 4.1, 1.3],\n",
       "       [5.5, 2.5, 4. , 1.3],\n",
       "       [5.5, 2.6, 4.4, 1.2],\n",
       "       [6.1, 3. , 4.6, 1.4],\n",
       "       [5.8, 2.6, 4. , 1.2],\n",
       "       [5. , 2.3, 3.3, 1. ],\n",
       "       [5.6, 2.7, 4.2, 1.3],\n",
       "       [5.7, 3. , 4.2, 1.2],\n",
       "       [5.7, 2.9, 4.2, 1.3],\n",
       "       [6.2, 2.9, 4.3, 1.3],\n",
       "       [5.1, 2.5, 3. , 1.1],\n",
       "       [5.7, 2.8, 4.1, 1.3],\n",
       "       [6.3, 3.3, 6. , 2.5],\n",
       "       [5.8, 2.7, 5.1, 1.9],\n",
       "       [7.1, 3. , 5.9, 2.1],\n",
       "       [6.3, 2.9, 5.6, 1.8],\n",
       "       [6.5, 3. , 5.8, 2.2],\n",
       "       [7.6, 3. , 6.6, 2.1],\n",
       "       [4.9, 2.5, 4.5, 1.7],\n",
       "       [7.3, 2.9, 6.3, 1.8],\n",
       "       [6.7, 2.5, 5.8, 1.8],\n",
       "       [7.2, 3.6, 6.1, 2.5],\n",
       "       [6.5, 3.2, 5.1, 2. ],\n",
       "       [6.4, 2.7, 5.3, 1.9],\n",
       "       [6.8, 3. , 5.5, 2.1],\n",
       "       [5.7, 2.5, 5. , 2. ],\n",
       "       [5.8, 2.8, 5.1, 2.4],\n",
       "       [6.4, 3.2, 5.3, 2.3],\n",
       "       [6.5, 3. , 5.5, 1.8],\n",
       "       [7.7, 3.8, 6.7, 2.2],\n",
       "       [7.7, 2.6, 6.9, 2.3],\n",
       "       [6. , 2.2, 5. , 1.5],\n",
       "       [6.9, 3.2, 5.7, 2.3],\n",
       "       [5.6, 2.8, 4.9, 2. ],\n",
       "       [7.7, 2.8, 6.7, 2. ],\n",
       "       [6.3, 2.7, 4.9, 1.8],\n",
       "       [6.7, 3.3, 5.7, 2.1],\n",
       "       [7.2, 3.2, 6. , 1.8],\n",
       "       [6.2, 2.8, 4.8, 1.8],\n",
       "       [6.1, 3. , 4.9, 1.8],\n",
       "       [6.4, 2.8, 5.6, 2.1],\n",
       "       [7.2, 3. , 5.8, 1.6],\n",
       "       [7.4, 2.8, 6.1, 1.9],\n",
       "       [7.9, 3.8, 6.4, 2. ],\n",
       "       [6.4, 2.8, 5.6, 2.2],\n",
       "       [6.3, 2.8, 5.1, 1.5],\n",
       "       [6.1, 2.6, 5.6, 1.4],\n",
       "       [7.7, 3. , 6.1, 2.3],\n",
       "       [6.3, 3.4, 5.6, 2.4],\n",
       "       [6.4, 3.1, 5.5, 1.8],\n",
       "       [6. , 3. , 4.8, 1.8],\n",
       "       [6.9, 3.1, 5.4, 2.1],\n",
       "       [6.7, 3.1, 5.6, 2.4],\n",
       "       [6.9, 3.1, 5.1, 2.3],\n",
       "       [5.8, 2.7, 5.1, 1.9],\n",
       "       [6.8, 3.2, 5.9, 2.3],\n",
       "       [6.7, 3.3, 5.7, 2.5],\n",
       "       [6.7, 3. , 5.2, 2.3],\n",
       "       [6.3, 2.5, 5. , 1.9],\n",
       "       [6.5, 3. , 5.2, 2. ],\n",
       "       [6.2, 3.4, 5.4, 2.3],\n",
       "       [5.9, 3. , 5.1, 1.8]])"
      ]
     },
     "execution_count": 8,
     "metadata": {},
     "output_type": "execute_result"
    }
   ],
   "source": [
    "#перевод к массиву\n",
    "X = X.to_numpy(copy=True)\n",
    "X"
   ]
  },
  {
   "cell_type": "code",
   "execution_count": 9,
   "metadata": {},
   "outputs": [
    {
     "data": {
      "text/plain": [
       "50     1.0\n",
       "51     1.0\n",
       "52     1.0\n",
       "53     1.0\n",
       "54     1.0\n",
       "      ... \n",
       "145    2.0\n",
       "146    2.0\n",
       "147    2.0\n",
       "148    2.0\n",
       "149    2.0\n",
       "Name: target, Length: 100, dtype: float64"
      ]
     },
     "execution_count": 9,
     "metadata": {},
     "output_type": "execute_result"
    }
   ],
   "source": [
    "#целевая переменная\n",
    "Y = df_iris_2class['target']\n",
    "Y.to_numpy(copy=True)\n",
    "Y"
   ]
  },
  {
   "cell_type": "code",
   "execution_count": 10,
   "metadata": {},
   "outputs": [],
   "source": [
    "model = LogisticRegression()"
   ]
  },
  {
   "cell_type": "code",
   "execution_count": 60,
   "metadata": {},
   "outputs": [],
   "source": [
    "#код из лекции по градиентному спуску\n",
    "EPOCHS = 40\n",
    "LEARNING_RATE = 0.0001\n",
    "\n",
    "costs = []\n",
    "params = []\n",
    "preds = []\n",
    "params = np.random.normal(size=(5,))\n",
    "\n",
    "for i in range(EPOCHS):\n",
    "    predictions = params[0] + np.dot(params[1:], X[i])\n",
    "    preds.append(predictions)\n",
    "\n",
    "    cost = np.sum(np.square(preds[i] - Y)) / (2 * len(preds))\n",
    "    costs.append(cost)\n",
    "    \n",
    "    params[0] -= LEARNING_RATE * np.sum(preds[i] - Y) / len(preds)\n",
    "    params[1] -= LEARNING_RATE * np.sum(np.dot(params[0], X[i])) / len(preds)\n",
    "    params[2] -= LEARNING_RATE * np.sum(np.dot(params[0], X[i])) / len(preds)\n",
    "    params[3] -= LEARNING_RATE * np.sum(np.dot(params[0], X[i])) / len(preds)\n",
    "    params[4] -= LEARNING_RATE * np.sum(np.dot(params[0], X[i])) / len(preds)"
   ]
  },
  {
   "cell_type": "code",
   "execution_count": 61,
   "metadata": {},
   "outputs": [
    {
     "data": {
      "text/plain": [
       "array([ 1.64290638, -1.35307035, -1.31535993, -1.55307543,  1.14640962])"
      ]
     },
     "execution_count": 61,
     "metadata": {},
     "output_type": "execute_result"
    }
   ],
   "source": [
    "params"
   ]
  },
  {
   "cell_type": "code",
   "execution_count": 62,
   "metadata": {},
   "outputs": [
    {
     "data": {
      "image/png": "[encoded data removed]",
      "text/plain": [
       "<Figure size 432x288 with 1 Axes>"
      ]
     },
     "metadata": {
      "needs_background": "light"
     },
     "output_type": "display_data"
    }
   ],
   "source": [
    "plt.plot(costs)\n",
    "plt.show()"
   ]
  },
  {
   "cell_type": "code",
   "execution_count": 56,
   "metadata": {},
   "outputs": [],
   "source": [
    "from matplotlib import pyplot as plt\n",
    "from math import ceil, floor"
   ]
  },
  {
   "cell_type": "code",
   "execution_count": 63,
   "metadata": {},
   "outputs": [],
   "source": [
    "#код из статьи\n",
    "def linear_interpolation(X, idx):\n",
    "    idx_min = floor(idx)\n",
    "    idx_max = ceil(idx)\n",
    "    if idx_min == idx_max or idx_max >= len(X):\n",
    "        return X[idx_min]\n",
    "    elif idx_min < 0:\n",
    "        return X[idx_max]\n",
    "    else:\n",
    "        return X[idx_min] + (idx - idx_min)*X[idx_max]"
   ]
  },
  {
   "cell_type": "code",
   "execution_count": 64,
   "metadata": {},
   "outputs": [],
   "source": [
    "def Nesterov_M(X, gamma = 0.9, lr=0.25):\n",
    "    Y = []\n",
    "    v = 0\n",
    "    for i in range(len(X)):\n",
    "        v = gamma*v + lr*(linear_interpolation(X, i+gamma*v) if i+gamma*v < len(X) else 0)\n",
    "        Y.append(v)\n",
    "    return np.asarray(Y)\n",
    "\n",
    "def RMSProp(X, gamma = 0.9, lr=0.25, eps=0.00001):\n",
    "    Y = []\n",
    "    EG = 0\n",
    "    for x in X:\n",
    "        EG = gamma*EG + (1-gamma)*x*x\n",
    "        v = lr/np.sqrt(EG + eps)*x\n",
    "        Y.append(v)\n",
    "    return np.asarray(Y)"
   ]
  },
  {
   "cell_type": "code",
   "execution_count": 72,
   "metadata": {},
   "outputs": [
    {
     "ename": "ValueError",
     "evalue": "The truth value of an array with more than one element is ambiguous. Use a.any() or a.all()",
     "output_type": "error",
     "traceback": [
      "\u001b[1;31m---------------------------------------------------------------------------\u001b[0m",
      "\u001b[1;31mValueError\u001b[0m                                Traceback (most recent call last)",
      "\u001b[1;32m<ipython-input-72-9736acdc278c>\u001b[0m in \u001b[0;36m<module>\u001b[1;34m\u001b[0m\n\u001b[1;32m----> 1\u001b[1;33m \u001b[0mNesterov_M\u001b[0m\u001b[1;33m(\u001b[0m\u001b[0mX\u001b[0m\u001b[1;33m)\u001b[0m\u001b[1;33m\u001b[0m\u001b[1;33m\u001b[0m\u001b[0m\n\u001b[0m",
      "\u001b[1;32m<ipython-input-64-0db9cc57a9d0>\u001b[0m in \u001b[0;36mNesterov_M\u001b[1;34m(X, gamma, lr)\u001b[0m\n\u001b[0;32m      3\u001b[0m     \u001b[0mv\u001b[0m \u001b[1;33m=\u001b[0m \u001b[1;36m0\u001b[0m\u001b[1;33m\u001b[0m\u001b[1;33m\u001b[0m\u001b[0m\n\u001b[0;32m      4\u001b[0m     \u001b[1;32mfor\u001b[0m \u001b[0mi\u001b[0m \u001b[1;32min\u001b[0m \u001b[0mrange\u001b[0m\u001b[1;33m(\u001b[0m\u001b[0mlen\u001b[0m\u001b[1;33m(\u001b[0m\u001b[0mX\u001b[0m\u001b[1;33m)\u001b[0m\u001b[1;33m)\u001b[0m\u001b[1;33m:\u001b[0m\u001b[1;33m\u001b[0m\u001b[1;33m\u001b[0m\u001b[0m\n\u001b[1;32m----> 5\u001b[1;33m         \u001b[0mv\u001b[0m \u001b[1;33m=\u001b[0m \u001b[0mgamma\u001b[0m\u001b[1;33m*\u001b[0m\u001b[0mv\u001b[0m \u001b[1;33m+\u001b[0m \u001b[0mlr\u001b[0m\u001b[1;33m*\u001b[0m\u001b[1;33m(\u001b[0m\u001b[0mlinear_interpolation\u001b[0m\u001b[1;33m(\u001b[0m\u001b[0mX\u001b[0m\u001b[1;33m,\u001b[0m \u001b[0mi\u001b[0m\u001b[1;33m+\u001b[0m\u001b[0mgamma\u001b[0m\u001b[1;33m*\u001b[0m\u001b[0mv\u001b[0m\u001b[1;33m)\u001b[0m \u001b[1;32mif\u001b[0m \u001b[0mi\u001b[0m\u001b[1;33m+\u001b[0m\u001b[0mgamma\u001b[0m\u001b[1;33m*\u001b[0m\u001b[0mv\u001b[0m \u001b[1;33m<\u001b[0m \u001b[0mlen\u001b[0m\u001b[1;33m(\u001b[0m\u001b[0mX\u001b[0m\u001b[1;33m)\u001b[0m \u001b[1;32melse\u001b[0m \u001b[1;36m0\u001b[0m\u001b[1;33m)\u001b[0m\u001b[1;33m\u001b[0m\u001b[1;33m\u001b[0m\u001b[0m\n\u001b[0m\u001b[0;32m      6\u001b[0m         \u001b[0mY\u001b[0m\u001b[1;33m.\u001b[0m\u001b[0mappend\u001b[0m\u001b[1;33m(\u001b[0m\u001b[0mv\u001b[0m\u001b[1;33m)\u001b[0m\u001b[1;33m\u001b[0m\u001b[1;33m\u001b[0m\u001b[0m\n\u001b[0;32m      7\u001b[0m     \u001b[1;32mreturn\u001b[0m \u001b[0mnp\u001b[0m\u001b[1;33m.\u001b[0m\u001b[0masarray\u001b[0m\u001b[1;33m(\u001b[0m\u001b[0mY\u001b[0m\u001b[1;33m)\u001b[0m\u001b[1;33m\u001b[0m\u001b[1;33m\u001b[0m\u001b[0m\n",
      "\u001b[1;31mValueError\u001b[0m: The truth value of an array with more than one element is ambiguous. Use a.any() or a.all()"
     ]
    }
   ],
   "source": [
    "Nesterov_M(X)"
   ]
  },
  {
   "cell_type": "code",
   "execution_count": 66,
   "metadata": {},
   "outputs": [
    {
     "data": {
      "text/plain": [
       "array([[0.79056861, 0.79056555, 0.79056763, 0.79054925],\n",
       "       [0.54860156, 0.57353786, 0.56158046, 0.59188478],\n",
       "       [0.48954326, 0.47060101, 0.49957156, 0.48975901],\n",
       "       [0.36489007, 0.33365749, 0.37765382, 0.38938383],\n",
       "       [0.39406483, 0.37649308, 0.39616635, 0.40627155],\n",
       "       [0.3308294 , 0.35467815, 0.36292713, 0.33596626],\n",
       "       [0.34645114, 0.38488168, 0.3566036 , 0.38169639],\n",
       "       [0.26730872, 0.27643033, 0.25034303, 0.23963399],\n",
       "       [0.34214138, 0.32163265, 0.33350626, 0.30325545],\n",
       "       [0.26740004, 0.29314678, 0.27888869, 0.3156235 ],\n",
       "       [0.25637641, 0.21986203, 0.2502562 , 0.22758078],\n",
       "       [0.29573604, 0.31822548, 0.29386943, 0.32750719],\n",
       "       [0.29424131, 0.2348811 , 0.27639715, 0.22097515],\n",
       "       [0.29288859, 0.30166919, 0.31414622, 0.3014603 ],\n",
       "       [0.26679836, 0.29501677, 0.24151318, 0.27644194],\n",
       "       [0.30959772, 0.30643374, 0.2895323 , 0.29167208],\n",
       "       [0.25784966, 0.29069134, 0.29032147, 0.30406987],\n",
       "       [0.26519386, 0.26038648, 0.26294876, 0.20627662],\n",
       "       [0.27951689, 0.21519834, 0.2839185 , 0.30150172],\n",
       "       [0.25221689, 0.24507317, 0.24644807, 0.22354936],\n",
       "       [0.26402071, 0.30505393, 0.29640538, 0.3465693 ],\n",
       "       [0.27038444, 0.26507364, 0.24729919, 0.25026992],\n",
       "       [0.27585416, 0.23791055, 0.29608683, 0.28406467],\n",
       "       [0.26522762, 0.26466597, 0.27996413, 0.22925151],\n",
       "       [0.27500521, 0.27138759, 0.25550323, 0.2485187 ],\n",
       "       [0.27961699, 0.27715099, 0.26022938, 0.26570205],\n",
       "       [0.28347957, 0.25776596, 0.27986492, 0.26399729],\n",
       "       [0.27590729, 0.27318389, 0.28641883, 0.31071574],\n",
       "       [0.24736845, 0.26256198, 0.25696642, 0.27142476],\n",
       "       [0.23637978, 0.2367464 , 0.20356971, 0.18541762],\n",
       "       [0.23002183, 0.22115902, 0.22347247, 0.2074576 ],\n",
       "       [0.23180711, 0.22360314, 0.22027846, 0.19279726],\n",
       "       [0.24498946, 0.25139685, 0.2337976 , 0.23303571],\n",
       "       [0.25308723, 0.2512561 , 0.29842986, 0.30258271],\n",
       "       [0.22973816, 0.27578815, 0.26189177, 0.27967917],\n",
       "       [0.25472314, 0.3041148 , 0.26062563, 0.29219472],\n",
       "       [0.28034266, 0.27414425, 0.269718  , 0.27122527],\n",
       "       [0.26214436, 0.20692519, 0.25224837, 0.23643639],\n",
       "       [0.23456158, 0.26769556, 0.23642519, 0.23769427],\n",
       "       [0.2321305 , 0.22538777, 0.23239356, 0.23884369],\n",
       "       [0.23374716, 0.235833  , 0.25505242, 0.22296298],\n",
       "       [0.25827571, 0.26963568, 0.26482991, 0.25905535],\n",
       "       [0.24600571, 0.23517369, 0.23205122, 0.22442908],\n",
       "       [0.21511113, 0.21131278, 0.19552846, 0.19128318],\n",
       "       [0.24178781, 0.24825451, 0.24896825, 0.24880029],\n",
       "       [0.24648673, 0.27288813, 0.24907084, 0.23147536],\n",
       "       [0.2468314 , 0.26230903, 0.24916328, 0.25068808],\n",
       "       [0.26644829, 0.26099564, 0.25457209, 0.25061894],\n",
       "       [0.22175589, 0.22716495, 0.18217719, 0.21510007],\n",
       "       [0.24805783, 0.25397165, 0.24907737, 0.25377859],\n",
       "       [0.27143201, 0.29303925, 0.34556993, 0.43118371],\n",
       "       [0.2499008 , 0.2407272 , 0.28830101, 0.31653014],\n",
       "       [0.2985786 , 0.26556044, 0.32123455, 0.33420187],\n",
       "       [0.26332072, 0.25601316, 0.29773077, 0.28207903],\n",
       "       [0.26925479, 0.26323699, 0.30062606, 0.33019618],\n",
       "       [0.30598625, 0.26181784, 0.32807965, 0.30628879],\n",
       "       [0.2011109 , 0.22082912, 0.22595477, 0.24815095],\n",
       "       [0.29328451, 0.255525  , 0.30723737, 0.26138473],\n",
       "       [0.26705998, 0.22278527, 0.27897344, 0.26017571],\n",
       "       [0.28253531, 0.31091464, 0.28801899, 0.34314943],\n",
       "       [0.25454602, 0.27335003, 0.24167709, 0.27173788],\n",
       "       [0.25056672, 0.23237548, 0.25103844, 0.25729979],\n",
       "       [0.26446075, 0.257339  , 0.25940035, 0.28029363],\n",
       "       [0.22408793, 0.21733926, 0.2371291 , 0.26509489],\n",
       "       [0.22996048, 0.24405468, 0.24264903, 0.30870084],\n",
       "       [0.25336693, 0.2755679 , 0.25194567, 0.29008876],\n",
       "       [0.25656409, 0.25747259, 0.26023639, 0.22904294],\n",
       "       [0.29691668, 0.31525723, 0.30779659, 0.27645409],\n",
       "       [0.29100316, 0.21851253, 0.30777132, 0.28427646],\n",
       "       [0.22879314, 0.18923116, 0.22533493, 0.18971582],\n",
       "       [0.26170727, 0.27237116, 0.25616795, 0.28588226],\n",
       "       [0.21541746, 0.23941925, 0.22272419, 0.24873284],\n",
       "       [0.29039479, 0.2404173 , 0.29742956, 0.24885866],\n",
       "       [0.23875378, 0.23347184, 0.22021449, 0.22621641],\n",
       "       [0.25351318, 0.28112942, 0.25553046, 0.26242164],\n",
       "       [0.26991329, 0.27006928, 0.26688461, 0.2271062 ],\n",
       "       [0.23401804, 0.23757931, 0.21645677, 0.22911707],\n",
       "       [0.23201133, 0.25408311, 0.22342386, 0.23097328],\n",
       "       [0.24405628, 0.23834134, 0.25479194, 0.26731469],\n",
       "       [0.27177613, 0.25481353, 0.26239734, 0.20718194],\n",
       "       [0.27592006, 0.23896399, 0.27300253, 0.24641718],\n",
       "       [0.28900596, 0.31377271, 0.28205342, 0.25839995],\n",
       "       [0.23558378, 0.23289249, 0.24711153, 0.28016951],\n",
       "       [0.23353787, 0.23444707, 0.22721291, 0.19512794],\n",
       "       [0.22820891, 0.22038044, 0.24953967, 0.18654956],\n",
       "       [0.28345963, 0.25384665, 0.26937734, 0.29904802],\n",
       "       [0.23355509, 0.28313874, 0.24756357, 0.30369201],\n",
       "       [0.23844923, 0.25730419, 0.24380323, 0.22972936],\n",
       "       [0.22582071, 0.2491031 , 0.2157682 , 0.23153765],\n",
       "       [0.25867337, 0.2566361 , 0.24343697, 0.26789294],\n",
       "       [0.25105728, 0.2559486 , 0.25220458, 0.29878799],\n",
       "       [0.25765666, 0.25533454, 0.23149801, 0.2819757 ],\n",
       "       [0.21933425, 0.22474568, 0.23316572, 0.23448741],\n",
       "       [0.25640771, 0.26458257, 0.26755358, 0.27983608],\n",
       "       [0.25236954, 0.27027964, 0.25759648, 0.29711791],\n",
       "       [0.25212955, 0.24612796, 0.23638003, 0.27071488],\n",
       "       [0.23827995, 0.20854359, 0.22928554, 0.22590221],\n",
       "       [0.24625065, 0.25022703, 0.23953987, 0.23893279],\n",
       "       [0.23627463, 0.27960966, 0.24887681, 0.27195885],\n",
       "       [0.22702207, 0.24703714, 0.23642584, 0.21582789]])"
      ]
     },
     "execution_count": 66,
     "metadata": {},
     "output_type": "execute_result"
    }
   ],
   "source": [
    "RMSProp(X)"
   ]
  },
  {
   "cell_type": "code",
   "execution_count": 67,
   "metadata": {},
   "outputs": [
    {
     "data": {
      "image/png": "[encoded data removed]",
      "text/plain": [
       "<Figure size 432x288 with 1 Axes>"
      ]
     },
     "metadata": {
      "needs_background": "light"
     },
     "output_type": "display_data"
    }
   ],
   "source": [
    "plt.plot(RMSProp(X))\n",
    "plt.show()"
   ]
  },
  {
   "cell_type": "code",
   "execution_count": 75,
   "metadata": {},
   "outputs": [],
   "source": [
    "def Adagrad(X, eps, lr=2.5):\n",
    "    Y = []\n",
    "    G = 0\n",
    "    for x in X:\n",
    "        G += x*x\n",
    "        v = lr/np.sqrt(G + eps)*x\n",
    "        Y.append(v)\n",
    "    return np.asarray(Y)"
   ]
  },
  {
   "cell_type": "code",
   "execution_count": 76,
   "metadata": {},
   "outputs": [
    {
     "data": {
      "text/plain": [
       "array([[2.49999974, 2.49999878, 2.49999943, 2.49999362],\n",
       "       [1.68692291, 1.76776652, 1.72892854, 1.827636  ],\n",
       "       [1.47071057, 1.41283204, 1.50388834, 1.47541662],\n",
       "       [1.06140426, 0.96669366, 1.10196594, 1.13842465],\n",
       "       [1.12116966, 1.06476951, 1.13033367, 1.16282508],\n",
       "       [0.91496665, 0.97961989, 1.01125889, 0.93469524],\n",
       "       [0.93748338, 1.0481737 , 0.97293681, 1.04505953],\n",
       "       [0.69998856, 0.72916332, 0.65896753, 0.63194997],\n",
       "       [0.88218896, 0.83097621, 0.86220364, 0.78047445],\n",
       "       [0.66965841, 0.73908551, 0.70162042, 0.79668984],\n",
       "       [0.62355192, 0.53479756, 0.6105906 , 0.55487082],\n",
       "       [0.70585474, 0.76383613, 0.70313199, 0.78969229],\n",
       "       [0.68994145, 0.54659437, 0.64684621, 0.51516276],\n",
       "       [0.6753608 , 0.69233114, 0.72718136, 0.69296728],\n",
       "       [0.60177354, 0.6672187 , 0.54366027, 0.62315894],\n",
       "       [0.69185938, 0.68586754, 0.6421777 , 0.64814804],\n",
       "       [0.5633951 , 0.64151788, 0.63521822, 0.66910955],\n",
       "       [0.56824307, 0.56255858, 0.56384254, 0.4391374 ],\n",
       "       [0.59025886, 0.4508651 , 0.60072022, 0.63696699],\n",
       "       [0.52141255, 0.50191493, 0.5096894 , 0.45916306],\n",
       "       [0.53654458, 0.62223373, 0.60844761, 0.71956255],\n",
       "       [0.54156045, 0.53198492, 0.49692239, 0.50880717],\n",
       "       [0.54582311, 0.46663885, 0.59144935, 0.57153738],\n",
       "       [0.517068  , 0.51157617, 0.55324295, 0.4497695 ],\n",
       "       [0.53015894, 0.51833337, 0.49609279, 0.47825151],\n",
       "       [0.53410366, 0.52428326, 0.49747788, 0.50444632],\n",
       "       [0.53742331, 0.48021863, 0.5303508 , 0.49448046],\n",
       "       [0.51802747, 0.5039576 , 0.5394349 , 0.58383742],\n",
       "       [0.45611882, 0.47816519, 0.47658796, 0.50455021],\n",
       "       [0.42694725, 0.42253247, 0.36667089, 0.33336294],\n",
       "       [0.40648463, 0.38536829, 0.39314645, 0.36281701],\n",
       "       [0.40121581, 0.38086986, 0.37839036, 0.32699997],\n",
       "       [0.41716817, 0.42232064, 0.39386304, 0.38765381],\n",
       "       [0.42526376, 0.41642079, 0.5044572 , 0.50616689],\n",
       "       [0.37832941, 0.45496342, 0.43821783, 0.46620733],\n",
       "       [0.41454658, 0.50499603, 0.43163685, 0.48773231],\n",
       "       [0.45517313, 0.45282165, 0.44366481, 0.44978772],\n",
       "       [0.42186104, 0.33297125, 0.4097296 , 0.38516191],\n",
       "       [0.37083913, 0.42790128, 0.37741768, 0.38067062],\n",
       "       [0.36041228, 0.35301157, 0.36428241, 0.37633286],\n",
       "       [0.35672435, 0.3632362 , 0.39566041, 0.34407831],\n",
       "       [0.39077651, 0.4133502 , 0.4080966 , 0.39634775],\n",
       "       [0.3675211 , 0.35461462, 0.35134466, 0.33663269],\n",
       "       [0.31431451, 0.31125675, 0.28793049, 0.27877765],\n",
       "       [0.34859321, 0.36154719, 0.36258237, 0.35866195],\n",
       "       [0.35129758, 0.39663113, 0.35882812, 0.32820712],\n",
       "       [0.34787982, 0.3789791 , 0.35518812, 0.35201536],\n",
       "       [0.37413428, 0.37469826, 0.35985796, 0.34857681],\n",
       "       [0.3054499 , 0.32035279, 0.24980717, 0.29291806],\n",
       "       [0.33824611, 0.35515611, 0.33826356, 0.34290407],\n",
       "       [0.3697397 , 0.41283039, 0.48559203, 0.6376223 ],\n",
       "       [0.33728319, 0.33472903, 0.40724018, 0.47573794],\n",
       "       [0.40736304, 0.36787254, 0.46297199, 0.51455751],\n",
       "       [0.35774303, 0.35206621, 0.43279608, 0.43434187],\n",
       "       [0.3651418 , 0.36040203, 0.44121686, 0.51928401],\n",
       "       [0.42084246, 0.35671441, 0.49224571, 0.48621531],\n",
       "       [0.26974855, 0.29518263, 0.33263794, 0.38881347],\n",
       "       [0.39677663, 0.33924463, 0.45781789, 0.40621394],\n",
       "       [0.36036174, 0.29047154, 0.41561782, 0.4009555 ],\n",
       "       [0.38269038, 0.41254465, 0.43058313, 0.54356045],\n",
       "       [0.34223194, 0.36282391, 0.35632045, 0.42841581],\n",
       "       [0.333947  , 0.30386298, 0.36629753, 0.40170658],\n",
       "       [0.35129816, 0.33458812, 0.3758009 , 0.43715101],\n",
       "       [0.29244878, 0.27710533, 0.33849122, 0.41067847],\n",
       "       [0.29549346, 0.30799371, 0.34201485, 0.48350946],\n",
       "       [0.32332338, 0.34855492, 0.35188871, 0.45560366],\n",
       "       [0.32557874, 0.32401414, 0.36133324, 0.35298731],\n",
       "       [0.38117616, 0.40499669, 0.43350162, 0.42514477],\n",
       "       [0.3768213 , 0.27541631, 0.43948937, 0.43760728],\n",
       "       [0.29162245, 0.23203859, 0.31591756, 0.28355437],\n",
       "       [0.33238845, 0.33447634, 0.35646617, 0.42835367],\n",
       "       [0.2682076 , 0.29068173, 0.30415943, 0.36841472],\n",
       "       [0.3648373 , 0.28873652, 0.41025343, 0.36447834],\n",
       "       [0.2963979 , 0.27671372, 0.29789838, 0.32524266],\n",
       "       [0.31274067, 0.3351527 , 0.34325293, 0.37515315],\n",
       "       [0.33308327, 0.32228471, 0.35760333, 0.31893243],\n",
       "       [0.28495247, 0.28022202, 0.28422775, 0.3163684 ],\n",
       "       [0.27861004, 0.29809588, 0.28821455, 0.31386522],\n",
       "       [0.29033427, 0.27651573, 0.32656575, 0.36231029],\n",
       "       [0.32387356, 0.29420815, 0.33517524, 0.27437836],\n",
       "       [0.32995809, 0.27295271, 0.34905891, 0.32309187],\n",
       "       [0.34880712, 0.36643501, 0.36235838, 0.33699272],\n",
       "       [0.28078992, 0.26844367, 0.31454401, 0.36668296],\n",
       "       [0.27472857, 0.26690935, 0.2845975 , 0.24877024],\n",
       "       [0.26451389, 0.24663536, 0.31008608, 0.23119062],\n",
       "       [0.33095588, 0.28275325, 0.33473099, 0.37550432],\n",
       "       [0.26920756, 0.31785308, 0.30499859, 0.38710482],\n",
       "       [0.27185891, 0.2878794 , 0.29742472, 0.28839044],\n",
       "       [0.25355352, 0.27687909, 0.25818275, 0.28649057],\n",
       "       [0.28962324, 0.28425298, 0.28851489, 0.33129127],\n",
       "       [0.2794657 , 0.2824332 , 0.2970806 , 0.37434983],\n",
       "       [0.2859195 , 0.28064793, 0.26898495, 0.35511421],\n",
       "       [0.23923517, 0.24327523, 0.26744139, 0.29135621],\n",
       "       [0.27873385, 0.28642759, 0.30705054, 0.34923607],\n",
       "       [0.27299254, 0.29333808, 0.29457557, 0.37530261],\n",
       "       [0.27137937, 0.2651667 , 0.26719631, 0.34203173],\n",
       "       [0.25385863, 0.22011409, 0.25557349, 0.28076051],\n",
       "       [0.26049194, 0.26267487, 0.26430682, 0.29349374],\n",
       "       [0.24725107, 0.29560971, 0.27283307, 0.33448327],\n",
       "       [0.23425214, 0.25942396, 0.25631778, 0.26034622]])"
      ]
     },
     "execution_count": 76,
     "metadata": {},
     "output_type": "execute_result"
    }
   ],
   "source": [
    "Adagrad(X, eps=0.00001)"
   ]
  },
  {
   "cell_type": "code",
   "execution_count": 77,
   "metadata": {},
   "outputs": [
    {
     "data": {
      "image/png": "[encoded data removed]",
      "text/plain": [
       "<Figure size 432x288 with 1 Axes>"
      ]
     },
     "metadata": {
      "needs_background": "light"
     },
     "output_type": "display_data"
    }
   ],
   "source": [
    "plt.plot(Adagrad(X, eps=0.00001))\n",
    "plt.show()"
   ]
  }
 ],
 "metadata": {
  "kernelspec": {
   "display_name": "Python 3",
   "language": "python",
   "name": "python3"
  },
  "language_info": {
   "codemirror_mode": {
    "name": "ipython",
    "version": 3
   },
   "file_extension": ".py",
   "mimetype": "text/x-python",
   "name": "python",
   "nbconvert_exporter": "python",
   "pygments_lexer": "ipython3",
   "version": "3.8.5"
  }
 },
 "nbformat": 4,
 "nbformat_minor": 4
}
